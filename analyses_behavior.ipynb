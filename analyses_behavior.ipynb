{
 "cells": [
  {
   "cell_type": "code",
   "execution_count": null,
   "metadata": {
    "hideCode": true,
    "hidePrompt": true
   },
   "outputs": [],
   "source": [
    "import numpy as np\n",
    "import pandas as pd\n",
    "import matplotlib.pyplot as plt\n",
    "import seaborn as sns\n",
    "\n",
    "from sklearn import svm\n",
    "from sklearn.model_selection import train_test_split\n",
    "\n",
    "import sys\n",
    "sys.path.append(\"/Users/lsp/Documents/projets/en_cours/eeg/eeg\")\n",
    "from eeg import create3DMatrix, loadEEG, getEvents, getTrialNumList, plotFFTElectrodes, plot3DMatrix, computePickEnergy\n",
    "\n",
    "sys.path.append(\"/Users/lsp/Documents/projets/en_cours/eeg/dss\")\n",
    "from dss import crossValidateDSS, createBiasedSignal, covUnnorm, computeDSS, applyDSS\n",
    "\n",
    "from tools.eeg_utils import processEEG, loadDataH5\n",
    "from tools.audio import getAttendedAndUnattendedEnv, butterLpass\n",
    "from tools.behavior import getBehaviorData, analyses, checkLinkTrialsBehaviorEEG\n",
    "from tools.decodingTRF import getTRFAccuracyByDur, getUnattendedTrialsNumber, calculateCorr\n",
    "from tools.decodingSSR import calculateBaseline, comparePicks, getSSRAccuracyByDur, crossVal\n"
   ]
  },
  {
   "cell_type": "code",
   "execution_count": null,
   "metadata": {
    "hideCode": true,
    "hidePrompt": true
   },
   "outputs": [],
   "source": [
    "%%javascript\n",
    "IPython.OutputArea.prototype._should_scroll = function(lines) {\n",
    "    return false;\n",
    "}"
   ]
  },
  {
   "cell_type": "code",
   "execution_count": null,
   "metadata": {
    "hideCode": true,
    "hidePrompt": true
   },
   "outputs": [],
   "source": [
    "%load_ext autoreload\n",
    "%autoreload 2"
   ]
  },
  {
   "cell_type": "code",
   "execution_count": null,
   "metadata": {
    "hideCode": true,
    "hidePrompt": true
   },
   "outputs": [],
   "source": [
    "%matplotlib notebook"
   ]
  },
  {
   "cell_type": "code",
   "execution_count": null,
   "metadata": {
    "hideCode": true,
    "hidePrompt": true
   },
   "outputs": [],
   "source": [
    "# Plot parameters\n",
    "plt.style.use('ggplot')\n",
    "plt.rcParams['axes.facecolor']='w'\n",
    "\n",
    "%pylab inline\n",
    "pylab.rcParams['figure.figsize'] = (18, 10)"
   ]
  },
  {
   "cell_type": "markdown",
   "metadata": {},
   "source": [
    "# Behavioral analyses"
   ]
  },
  {
   "cell_type": "code",
   "execution_count": 7,
   "metadata": {},
   "outputs": [
    {
     "name": "stdout",
     "output_type": "stream",
     "text": [
      "loading session 1\n",
      "loading session 2\n",
      "loading session 3\n",
      "loading session 4\n",
      "loading session 5\n",
      "loading session 6\n",
      "loading session 7\n",
      "loading session 8\n",
      "loading session 1\n",
      "loading session 2\n",
      "loading session 3\n",
      "loading session 4\n",
      "loading session 5\n",
      "loading session 6\n",
      "loading session 7\n",
      "loading session 8\n",
      "loading session 1\n",
      "loading session 2\n",
      "loading session 3\n",
      "loading session 4\n",
      "loading session 5\n",
      "loading session 6\n",
      "loading session 7\n",
      "loading session 8\n",
      "loading session 1\n",
      "loading session 2\n",
      "loading session 3\n",
      "loading session 4\n",
      "loading session 5\n",
      "loading session 6\n",
      "loading session 7\n",
      "loading session 8\n"
     ]
    }
   ],
   "source": [
    "# Get behavior data\n",
    "trialBehavior_p1 = getBehaviorData(dbName='hijee_18_06', sessionNums=np.arange(1, 9))\n",
    "trialBehavior_p2 = getBehaviorData(dbName='thomas_20_06', sessionNums=np.arange(1, 9))\n",
    "trialBehavior_p3 = getBehaviorData(dbName='isaac_21_06', sessionNums=np.arange(1, 9))\n",
    "trialBehavior_p4 = getBehaviorData(dbName='thomas_22_06', sessionNums=np.arange(1, 9))"
   ]
  },
  {
   "cell_type": "code",
   "execution_count": 66,
   "metadata": {},
   "outputs": [],
   "source": [
    "subjs = [trialBehavior_p1, trialBehavior_p2, trialBehavior_p3, trialBehavior_p4]\n",
    "allPerf = pd.DataFrame()\n",
    "for i in range(len(subjs)):\n",
    "    performances = analyses(subjs[i], verbose=False)\n",
    "    performances['name'] = i\n",
    "    allPerf = allPerf.append(performances, ignore_index=True)"
   ]
  },
  {
   "cell_type": "code",
   "execution_count": 67,
   "metadata": {},
   "outputs": [],
   "source": [
    "allPerf.to_csv('behavior.csv')"
   ]
  },
  {
   "cell_type": "markdown",
   "metadata": {},
   "source": [
    "The analyses have been done in R from this csv file. See the file `behavior.Rmd`."
   ]
  },
  {
   "cell_type": "code",
   "execution_count": null,
   "metadata": {},
   "outputs": [],
   "source": []
  }
 ],
 "metadata": {
  "kernelspec": {
   "display_name": "Python 2",
   "language": "python",
   "name": "python2"
  },
  "language_info": {
   "codemirror_mode": {
    "name": "ipython",
    "version": 2
   },
   "file_extension": ".py",
   "mimetype": "text/x-python",
   "name": "python",
   "nbconvert_exporter": "python",
   "pygments_lexer": "ipython2",
   "version": "2.7.10"
  },
  "varInspector": {
   "cols": {
    "lenName": 16,
    "lenType": 16,
    "lenVar": 40
   },
   "kernels_config": {
    "python": {
     "delete_cmd_postfix": "",
     "delete_cmd_prefix": "del ",
     "library": "var_list.py",
     "varRefreshCmd": "print(var_dic_list())"
    },
    "r": {
     "delete_cmd_postfix": ") ",
     "delete_cmd_prefix": "rm(",
     "library": "var_list.r",
     "varRefreshCmd": "cat(var_dic_list()) "
    }
   },
   "types_to_exclude": [
    "module",
    "function",
    "builtin_function_or_method",
    "instance",
    "_Feature"
   ],
   "window_display": false
  }
 },
 "nbformat": 4,
 "nbformat_minor": 2
}
