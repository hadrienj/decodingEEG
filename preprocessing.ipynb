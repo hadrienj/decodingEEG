{
 "cells": [
  {
   "cell_type": "code",
   "execution_count": null,
   "metadata": {
    "hideCode": true,
    "hidePrompt": true
   },
   "outputs": [],
   "source": [
    "import numpy as np\n",
    "import pandas as pd\n",
    "import matplotlib.pyplot as plt\n",
    "import h5py\n",
    "\n",
    "import sys\n",
    "sys.path.append(\"/Users/lsp/Documents/projets/en_cours/eeg/eeg\")\n",
    "from eeg import create3DMatrix, loadEEG, getEvents, getTrialNumList, plotFFTElectrodes, plot3DMatrix, computePickEnergy\n",
    "\n",
    "sys.path.append(\"/Users/lsp/Documents/projets/en_cours/eeg/dss\")\n",
    "from dss import crossValidateDSS, createBiasedSignal\n",
    "\n",
    "from tools.eeg_utils import processEEG\n",
    "from tools.audio import getAttendedAndUnattendedEnv\n",
    "from tools.behavior import getBehaviorData, analyses, checkLinkTrialsBehaviorEEG\n",
    "from tools.decodingTRF import getTRFAccuracyByDur, getUnattendedTrialsNumber, calculateCorr\n",
    "from tools.decodingSSR import calculateBaseline, comparePicks, getSSRAccuracyByDur, crossVal\n"
   ]
  },
  {
   "cell_type": "code",
   "execution_count": null,
   "metadata": {
    "hideCode": true,
    "hidePrompt": true
   },
   "outputs": [],
   "source": [
    "%%javascript\n",
    "IPython.OutputArea.prototype._should_scroll = function(lines) {\n",
    "    return false;\n",
    "}"
   ]
  },
  {
   "cell_type": "code",
   "execution_count": null,
   "metadata": {
    "hideCode": true,
    "hidePrompt": true
   },
   "outputs": [],
   "source": [
    "%load_ext autoreload\n",
    "%autoreload 2"
   ]
  },
  {
   "cell_type": "code",
   "execution_count": null,
   "metadata": {
    "hideCode": true,
    "hidePrompt": true
   },
   "outputs": [],
   "source": [
    "%matplotlib notebook"
   ]
  },
  {
   "cell_type": "code",
   "execution_count": null,
   "metadata": {
    "hideCode": true,
    "hidePrompt": true
   },
   "outputs": [],
   "source": [
    "# Plot parameters\n",
    "plt.style.use('ggplot')\n",
    "plt.rcParams['axes.facecolor']='w'\n",
    "\n",
    "%pylab inline\n",
    "pylab.rcParams['figure.figsize'] = (18, 10)"
   ]
  },
  {
   "cell_type": "markdown",
   "metadata": {},
   "source": [
    "# Preprocessing\n",
    "\n",
    "The goal of this notebook is to preprocess the raw data in order to create a file for each participant containing:\n",
    "\n",
    "- The EEG data filtered between 1 and 15 Hz and downsampled to 64 Hz for the stimulus reconstruction (TRF). The shape of this matrix is (trial, time, electrode).\n",
    "- The EEG data filtered between 1 and 100 Hz for the auditory steady-state response analysis (aSSR). The shape of this matrix is (trial, time, electrode).\n",
    "- The envelopes of the attended stimuli. The shape of this matrix is (trial, time).\n",
    "- The envelopes of the unattended stimuli. The shape of this matrix is (trial, time)."
   ]
  },
  {
   "cell_type": "code",
   "execution_count": null,
   "metadata": {
    "hideCode": true,
    "hidePrompt": true
   },
   "outputs": [],
   "source": [
    "def processingEEG(fnEEG, dbName, sessionNums, trialsToRemove, fs):\n",
    "    password = \"a\"\n",
    "    dbAddress = \"https://db.auditory.fr:6984/\"\n",
    "    \n",
    "    # Get behavior data\n",
    "    trialBehavior = getBehaviorData(dbName, sessionNums)\n",
    "    \n",
    "    # Processing for TRF and SSR\n",
    "    dataFilt3DTRF64, dataFilt3DSSR = processEEG(fnEEG, dbName, sessionNums,\n",
    "                                                trialsToRemove, trialBehavior,\n",
    "                                                fs, ref='average')\n",
    "    # Get the envelopes for TRF\n",
    "    envAttended, envUnattended = getAttendedAndUnattendedEnv(dbAddress, dbName,\n",
    "                                                         password, verbose=True,\n",
    "                                                            fs=48000.)\n",
    "\n",
    "    # Get the minimum length to have all matrices the same length for TRF\n",
    "    minLen = np.min([envAttended.shape[1], envUnattended.shape[1], dataFilt3DTRF64.shape[1]])\n",
    "    \n",
    "    dataFilt3DTRF64 = dataFilt3DTRF64[:, :minLen, :]\n",
    "    envAttended = envAttended[:, :minLen]\n",
    "    envUnattended = envUnattended[:, :minLen]\n",
    "    \n",
    "    # Export eeg data and attended envelope to do the TRF in Matlab and eeg for SSR (caching)\n",
    "    with h5py.File('data_preproc/data_%s1.h5' % dbName, 'w') as hf:\n",
    "        hf.create_dataset(\"eeg_TRF\", data=dataFilt3DTRF64)\n",
    "        hf.create_dataset(\"eeg_aSSR\", data=dataFilt3DSSR)\n",
    "        hf.create_dataset(\"envAttended\", data=envAttended)\n",
    "        hf.create_dataset(\"envUnattended\", data=envUnattended)\n",
    "    \n",
    "    return dataFilt3DTRF64, envAttended, envUnattended, dataFilt3DSSR, trialBehavior"
   ]
  },
  {
   "cell_type": "markdown",
   "metadata": {},
   "source": [
    "We used the function checkLinkTrialsBehaviorEEG (see package doc [here]()) to check the coherence between behavior and EEG. The triggers have to be updated:\n",
    "\n",
    "Remove the following trials:\n",
    "\n",
    "- hijee_18_06: 10\n",
    "- thomas_20_06_18: nothing\n",
    "- isaac_21_06: nothing\n",
    "- thomas_s_22_06_18: nothing"
   ]
  },
  {
   "cell_type": "markdown",
   "metadata": {},
   "source": [
    "# Preprocess data for each participant"
   ]
  },
  {
   "cell_type": "code",
   "execution_count": null,
   "metadata": {
    "hideCode": true,
    "hidePrompt": true
   },
   "outputs": [],
   "source": [
    "dataFilt3DTRF64_p1, envAttended_p1, envUnattended_p1, dataFilt3DSSR_p1, trialBehavior_p1 = processingEEG(fnEEG='data_raw/p1.bdf',\n",
    "                                                      dbName=\"hijee_18_06\",\n",
    "                                                      sessionNums=np.arange(1, 9),\n",
    "                                                      trialsToRemove=[10],\n",
    "                                                      fs=512.)\n"
   ]
  },
  {
   "cell_type": "code",
   "execution_count": null,
   "metadata": {
    "hideCode": true,
    "hidePrompt": true
   },
   "outputs": [],
   "source": [
    "dataFilt3DTRF64_p2, envAttended_p2, envUnattended_p2, dataFilt3DSSR_p2, trialBehavior_p2 = processingEEG(fnEEG='data_raw/p2.bdf',\n",
    "                                                               dbName=\"thomas_20_06\",\n",
    "                                                               sessionNums=np.arange(1, 9),\n",
    "                                                               trialsToRemove=[],\n",
    "                                                               fs=512.)"
   ]
  },
  {
   "cell_type": "code",
   "execution_count": null,
   "metadata": {
    "hideCode": true,
    "hidePrompt": true
   },
   "outputs": [],
   "source": [
    "dataFilt3DTRF64_p3, envAttended_p3, envUnattended_p3, dataFilt3DSSR_p3, trialBehavior_p3 = processingEEG(fnEEG='data_raw/p3.bdf',\n",
    "                                                               dbName=\"isaac_21_06\",\n",
    "                                                               sessionNums=np.arange(1, 9),\n",
    "                                                               trialsToRemove=[],\n",
    "                                                               fs=512.)"
   ]
  },
  {
   "cell_type": "code",
   "execution_count": null,
   "metadata": {
    "hideCode": true,
    "hidePrompt": true
   },
   "outputs": [],
   "source": [
    "dataFilt3DTRF64_p4, envAttended_p4, envUnattended_p4, dataFilt3DSSR_p4, trialBehavior_p4 = processingEEG(fnEEG='data_raw/p4.bdf',\n",
    "                                                               dbName=\"thomas_22_06\",\n",
    "                                                               sessionNums=np.arange(1, 9),\n",
    "                                                               trialsToRemove=[],\n",
    "                                                               fs=512.)"
   ]
  },
  {
   "cell_type": "code",
   "execution_count": null,
   "metadata": {},
   "outputs": [],
   "source": []
  }
 ],
 "metadata": {
  "kernelspec": {
   "display_name": "Python 2",
   "language": "python",
   "name": "python2"
  },
  "language_info": {
   "codemirror_mode": {
    "name": "ipython",
    "version": 2
   },
   "file_extension": ".py",
   "mimetype": "text/x-python",
   "name": "python",
   "nbconvert_exporter": "python",
   "pygments_lexer": "ipython2",
   "version": "2.7.10"
  },
  "varInspector": {
   "cols": {
    "lenName": 16,
    "lenType": 16,
    "lenVar": 40
   },
   "kernels_config": {
    "python": {
     "delete_cmd_postfix": "",
     "delete_cmd_prefix": "del ",
     "library": "var_list.py",
     "varRefreshCmd": "print(var_dic_list())"
    },
    "r": {
     "delete_cmd_postfix": ") ",
     "delete_cmd_prefix": "rm(",
     "library": "var_list.r",
     "varRefreshCmd": "cat(var_dic_list()) "
    }
   },
   "types_to_exclude": [
    "module",
    "function",
    "builtin_function_or_method",
    "instance",
    "_Feature"
   ],
   "window_display": false
  }
 },
 "nbformat": 4,
 "nbformat_minor": 2
}
